{
 "cells": [
  {
   "cell_type": "code",
   "execution_count": 3,
   "metadata": {},
   "outputs": [],
   "source": [
    "import urllib3\n",
    "from copy import deepcopy\n",
    "import json\n",
    "from multiprocessing.pool import ThreadPool\n",
    "import re\n",
    "\n",
    "from bs4 import BeautifulSoup"
   ]
  },
  {
   "cell_type": "markdown",
   "metadata": {},
   "source": [
    "## Importamos o metodo de limpeza de datos"
   ]
  },
  {
   "cell_type": "code",
   "execution_count": 4,
   "metadata": {},
   "outputs": [],
   "source": [
    "#Librarías para limpieza de datos\n",
    "import string\n",
    "import nltk\n",
    "from nltk.corpus import stopwords\n",
    "\n",
    "def limparcodigo(texto):\n",
    "    clean_texto=''\n",
    "    punctuation=[]\n",
    "    for s in string.punctuation:\n",
    "        punctuation.append(str(s))\n",
    "    sp_punctuation = [\"¿\", \"¡\", \"“\", \"”\", \"…\", \":\", \"–\", \"»\", \"«\",'->','(',')']\n",
    "\n",
    "    punctuation += sp_punctuation\n",
    "\n",
    "    punctuation[:10] \n",
    "    stop_words = stopwords.words('spanish') \n",
    "\n",
    "    stop_words += [\"\\u200b\", \"\\xa0\",'a','ante','bajo','cabe','con','contra','de','desde','en','entre','hacia','hasta','para','por','segun','sin','so','sobre','tras','mediante','durante','excepto','salvo','el','de','y','es','se','en','con',\"para\", \"como\", \"puede\",\"cómo\", \"hacer\", \"forma\", \"parte\", \"hace\", \"además\", \"según\", \"pueden\", \"ser\",'chegar','encuadren','luego','fai','fin','dos','poden','cualquier','tratan','encontrar','chámase','mayor','dos','poden','non','seu','base','poder','luego','cales','destas','mismos','característica','tan','después','llegar','sacar','mediante','é','punto','bien','unha'] #Añadimos algunos caractéres que hemos encontrado\n",
    "\n",
    "    stop_words[:10]\n",
    "\n",
    "    for sw in stop_words:\n",
    "        clean_texto = texto.lower().replace(sw,\"\")\n",
    "\n",
    "    for p in punctuation:\n",
    "        clean_texto = clean_texto.replace(p,\"\")\n",
    " \n",
    "    for stop in stop_words:\n",
    "        clean_texto_list = clean_texto.split()\n",
    "        clean_texto_list = [i.strip() for i in clean_texto_list]\n",
    "        try:\n",
    "            while stop in clean_texto_list: clean_texto_list.remove(stop)\n",
    "        except:\n",
    "            print(\"Error\")\n",
    "            pass\n",
    "        clean_texto= \" \".join(clean_texto_list)\n",
    "\n",
    "    clean_texto\n",
    "    lista_texto = clean_texto.split(\" \")\n",
    "\n",
    "    palabras = []\n",
    "    #Paso intermedio para eliminar palabras muy cortas (emoticonos,etc) y muy largas (ulr o similar) que se nos hayan pasado:\n",
    "\n",
    "    for palabra in lista_texto:\n",
    "        if (len(palabra)>=3 and len(palabra)<18):\n",
    "            palabras.append(palabra)\n",
    "    resultado=' '.join(palabras)\n",
    "    return resultado\n"
   ]
  },
  {
   "cell_type": "code",
   "execution_count": 5,
   "metadata": {},
   "outputs": [],
   "source": [
    "def conseguirLink(link):\n",
    "    ua = \"Mozilla/5.0 (Linux; U; Android 2.2; en-us; Nexus One Build/FRF91) AppleWebKit/533.1 (KHTML, like Gecko) Version/4.0 Mobile Safari/533.1\"  \n",
    "    h = {\"User-Agent\": ua}\n",
    "    httpPool = urllib3.PoolManager()\n",
    "    return httpPool.request('GET',link,fields=None,headers=h)"
   ]
  },
  {
   "cell_type": "code",
   "execution_count": 7,
   "metadata": {},
   "outputs": [],
   "source": [
    "\n",
    "claves = {}\n",
    "\n",
    "def get_data(map):\n",
    "    dato=map[1]\n",
    "    datos=[]\n",
    "    soup = BeautifulSoup(conseguirLink(dato[1]).data,'html.parser')\n",
    "    urls=[]\n",
    "    for text in soup.find_all(dato[2],{\"class\":dato[3]} if len(dato[3])>0 else None):\n",
    "        texto = text.text.replace(\"\\n\",\"\")\n",
    "        texto = texto.replace(\"\\r\",\"\")\n",
    "        texto = texto.replace(\"\\t\",\"\")\n",
    "        if dato[4] == \".\":\n",
    "            enlace = text\n",
    "            bEnlace = text[dato[5]]\n",
    "        else:\n",
    "            enlace=text.findChildren(dato[4] , recursive=False)\n",
    "            if len(enlace)==0:\n",
    "                continue\n",
    "            bEnlace = enlace[0][dato[5]]\n",
    "        if bEnlace.startswith(\"/\"):\n",
    "            bEnlace=dato[1]+bEnlace\n",
    "        datosenlace=[texto,bEnlace,0]\n",
    "        datos.append(datosenlace)\n",
    "        urls.append(bEnlace)\n",
    "    claves[dato[0]]=urls\n",
    "    return datos"
   ]
  },
  {
   "cell_type": "code",
   "execution_count": 15,
   "metadata": {},
   "outputs": [],
   "source": [
    "URLS = {\"La Voz de Galicia\": {\"url\": \"https://www.lavozdegalicia.es\", \"tag\": \"h4\", \"clase\": \"a-min-headline\"},\n",
    "\"El Mundo\": {\"url\": \"https://www.elmundo.es\", \"tag\": \"h2\", \"clase\": \"ue-c-cover-content-link\"}}\n"
   ]
  },
  {
   "cell_type": "code",
   "execution_count": 16,
   "metadata": {},
   "outputs": [
    {
     "name": "stdout",
     "output_type": "stream",
     "text": [
      "Filtrando resultados do medio: https://www.lavozdegalicia.es\n",
      "Filtrando resultados do medio: https://www.elmundo.es\n",
      "deque([['El PSOE y sus socios blindan a Tsunami y a los CDR al incluir el terrorismo en la ley de amnistía', '/noticia/espana/2024/01/23/junts-asegura-tener-acuerdo-psoe-retocar-referencia-terrorismo-ley-amnistia/00031706007975721867380.htm'], ['Los protagonistas del intento de amaño del Badajoz-Pontevedra: «Hablamos con el míster y no jugamos»', '/noticia/pontevedra/2024/01/23/protagonistas-intento-amano-badajoz-pontevedra-hablamos-mister-preferimos-jugar-partido/00031706008945381481123.htm'], ['En directo: Celta 0 - 1 Real Sociedad', '/retransmision/gradario/2024/01/23/directo-celta-real-sociedad/01071706038808428450532.htm'], ['Los promotores de la mayor granja de cerdo celta: «En Guijuelo dicen que estamos locos»', '/noticia/somosagro/ganaderia/2024/01/23/empresa-sarria-abrira-incio-gran-granja-cerdo-celta/0003_202401M23C1991.htm'], ['La participación en las ciudades será clave para las elecciones gallegas', '/noticia/galicia/2024/01/23/clave-abstencion-ante-18f-nueve-puntos-ciudades/0003_202401G23P2991.htm'], ['Varios detenidos en Boiro en relación con el pesquero apresado en Camariñas con 1.400 kilos de cocaína', '/noticia/barbanza/2024/01/23/varios-detenidos-operacion-contra-narcotrafico-boiro-relacionada-pesquero-apresado-camarinas-1340-kilos-coca/00031706025763809717918.htm'], ['«La sociedad de la nieve» opta a dos premios Óscar', '/noticia/cultura/2024/01/23/sociedad-nieve-logra-dos-nominaciones-oscar/00031706017616468361895.htm'], ['In Proteins for All construirá en Curtis la primera planta integral de producción de proteínas vegetales en España', '/noticia/somosagro/agricultura/2024/01/23/in-proteins-fo-allconstruira-curtis-primera-planta-integral-produccion-proteinas-vegetales-espana/00031706004129564309392.htm'], ['Atunlo desoye las presiones de los socios vascos: «La empresa se queda en Galicia»', '/noticia/vigo/vigo/2024/01/23/atunlo-desoye-presiones-socios-vascos-queda-galicia/00031706028695752135612.htm'], ['Las ayudas a jóvenes desempleados para el carné de conducir podrán pedirse del 24 de enero al 30 de septiembre', '/noticia/galicia/2024/01/23/ayudas-jovenes-desempleados-carne-conducir-podran-pedirse-24-enero-30-septiembre/00031706007822177241166.htm'], ['Hallan muerto con signos de estrangulamiento a un canónigo de la Catedral de Valencia', '/noticia/espana/2024/01/23/hallan-muerto-signos-estrangulamiento-canonigo-catedral-valencia/00031706028894824377737.htm'], ['Busca y captura para el acusado de estafar en A Coruña a la madre de su mejor amigo para comprarse un Porsche y montar una tienda a su novia', '/noticia/coruna/2024/01/23/busca-captura-acusado-estafar-coruna-madre-mejor-amigo-comprarse-porsche-montar-tienda-novia/00031706007384307961588.htm'], ['Condenan a un exjugador del Deportivo por romperle la nariz a un joven que lo provocó cantándole el «Cara al sol»', '/noticia/torremarathon/2024/01/23/condenan-exjugador-deportivo-romperle-nariz-joven-provoco-cantandole-cara-sol/00031706027723048401300.htm'], ['Las redes eléctricas como agentes integradores de la generación renovable', '/video/economia/2024/01/23/redes-electricas-agentes-integradores-generacion-renovable/00311706003519488396902.htm'], ['Borja Iglesias podría irse al Bayer Leverkusen, líder del Bundesliga', '/noticia/deportes/2024/01/23/borja-iglesias-irse-bayer-leverkusen-lider-bundesliga/00031706035306930817732.htm'], ['Maira da a luz a Manuel con el útero trasplantado de su madre', '/noticia/sociedad/2024/01/23/nace-clinic-barcelona-bebe-segunda-mujer-trasplantada-utero-espana/00031706029138116151196.htm'], ['Mariló Montero contra los paparazi: «Mis fotos en toples fueron de mano en mano»', '/noticia/sociedad/2024/01/23/marilo-montero-contra-paparazi-fotos-toples-fueron-mano-mano/00031706039850114480858.htm'], ['Zara lanza la primera prenda confeccionada al 100 % con residuos textiles', '/noticia/economia/2024/01/23/zara-lanza-primera-prenda-confeccionada-residuos-textiles/00031706008891177691359.htm'], ['Concellos gallegos prevén reclamar 7 millones de IBI a la concesionaria de la AP-9', '/noticia/coruna/abegondo/2024/01/23/concellos-gallegos-preven-reclamar-7-millones-ibi-ap-9/00031706030717360773798.htm'], ['Hospitalizada una mujer en Santiago tras resbalar en la calle y caer al río', '/noticia/santiago/santiago/2024/01/23/hospitalizada-mujer-santiago-tras-resbalar-calle-calzada-do-carme-abaixo-caer-rio-sarela/00031706029403646245183.htm'], ['Absuelto por falta de pruebas un hombre acusado de tocarle el trasero y un muslo a una niña de 13 años en Santiago', '/noticia/santiago/santiago/2024/01/23/absuelto-falta-pruebas-hombre-acusado-tocarle-trasero-muslo-nina-13-anos-santiago/00031706023748690370551.htm'], ['El ascensor HALO de Vigo empezará a funcionar la primera quincena de febrero', '/noticia/vigo/2024/01/23/ascensor-halo-vigo-empezara-funcionar-primera-quincena-febrero/00031706015106075926486.htm'], ['Los partidos pactan un debate a cinco en TVG y dejan las otras citas en el aire', '/noticia/galicia/2024/01/23/partidos-pactan-debate-cinco-tvg-dejan-citas-aire/00031706037706799377439.htm'], ['Rueda plantea ampliar de seis a nueve meses el trabajo del servicio antiincendios', '/noticia/galicia/2024/01/23/rueda-plantea-ampliar-seis-nueve-meses-trabajo-servicio-antiincendios/00031706033296223187156.htm'], ['El BNG acusa al PP de usar fondos públicos de la Xunta y manipular la CRTVG para «dopar» su campaña', '/noticia/galicia/2024/01/23/bng-acusa-pp-usar-fondos-publicos-xunta-manipular-crtvg-dopar-campana/00031706010759575918850.htm'], ['Besteiro se compromete a reactivar la gratuidad de los libros de texto si llega a la Xunta', '/noticia/galicia/2024/01/23/besteiro-compromete-reactivar-gratuidad-libros-texto-llegue-xunta/00031706012902287932465.htm'], ['Sumar propone crear centros intergeneracionales con niños y mayores', '/noticia/galicia/2024/01/23/sumar-propone-crear-centros-intergeneracionales-ninos-mayores/00031706031168621966360.htm'], ['Militantes de Vox trasladan por escrito a Abascal el rechazo a su candidato a la Xunta: «Nos sentimos despreciados»', '/noticia/galicia/2024/01/23/militantes-vox-abren-crisis-interna-rechazar-candidato-presidencia-xunta/00031706027158494309709.htm'], ['La vida poco conocida del abuelo Víctor Manuel: de camarero en un vapor al campo de Mauthausen', '/noticia/galicia/2024/01/22/vida-poco-conocida-abuelo-victor-manuel-vapor-mauthausen/00031705933122325719497.htm'], ['«Espercuentos»', '/noticia/opinion/2024/01/23/espercuentos/0003_202401E23P48993.htm'], ['Ahora, tú decides', '/noticia/opinion/2024/01/23/tu-decides/0003_202401G23P11991.htm'], ['O divorcio entre pais e mestres', '/noticia/educacion/2024/01/23/divorcio-pais-mestres/0003_202401G23P12994.htm'], ['El mar Rojo, en llamas', '/noticia/opinion/2024/01/23/mar-rojo-llamas/0003_202401G23P12991.htm'], ['«Presos de ETA dictan la política de Instituciones Penitenciarias»', '/noticia/opinion/2024/01/22/presos-eta-dictan-politica-instituciones-penitenciarias/00031705943050788688437.htm'], ['«Quizá no podré volver y tenga que jubilarme en otro país»', '/noticia/opinion/2024/01/21/quiza-podre-volver-tenga-jubilarme-pais/00031705861472198804871.htm'], ['Stellantis Vigo ya se resiente del conflicto en el mar Rojo: «Cuando alargas el tiempo de suministro a 14 días, hay que buscar alternativas»', '/noticia/vigo/vigo/2024/01/23/stellantis-vigo-resiente-conflicto-mar-rojo-alargas-tiempo-suministro-14-dias-buscar-alternativas/00031706011025794348456.htm'], ['Amancio Ortega compra un almacén logístico de Amazon en Canadá', '/noticia/economia/2024/01/23/amancio-ortega-compra-almacen-logistico-amazon-canada/00031706008698202683480.htm'], ['Los paneles de autoconsumo superan en España la potencia del parque nuclear', '/noticia/economia/2024/01/23/paneles-autoconsumo-superan-espana-potencia-parque-nuclear/0003_202401G23P28991.htm'], ['El panel de Funcas mantiene en el 1,6 % su previsión para el PIB en 2024 y recorta al 3 % la inflación media', '/noticia/economia/2024/01/23/panel-funcas-mantiene-16-prevision-pib-2024-recorta-3-inflacion-media/00031706005238550500306.htm'], ['La CNMV investiga si Gotham difundió información engañosa sobre Grifols', '/noticia/economia/2024/01/23/cnmv-investiga-gotham-difundio-informacion-enganosa-sobre-grifols/00031706008678595476354.htm'], ['«Máxima alerta» porque Milei insiste en mantener la subasta de cuotas que amenaza a pesqueras gallegas', '/noticia/somosmar/pesca-marisqueo/2024/01/23/maxima-alerta-mileiinsiste-mantener-subasta-cuotas-amenaza-pesqueras-gallegas/0003_202401G23P30992.htm'], ['Rubén Blanco, fundador de Pescados Rubén: «Hai que ter amigos ata no Índico»', '/noticia/galicia/2024/01/22/span-langglruben-blanco-fundador-pescados-ruben-mecenas-do-deporte-hai-ter-amigos-ata-indicospan/00031705941376203392750.htm'], ['El Gobierno impulsa un sistema de tarjetas monedero de entre 130 y 220 euros para comida destinadas a familias vulnerables con hijos', '/noticia/sociedad/2024/01/23/gobierno-impulsa-sistema-tarjetas-monedero-130-220-euros-comida-destinadas-familias-vulnerables-hijos/00031706014426760907884.htm'], ['El Reloj del Apocalipsis mantiene la humanidad a 90 segundos del fin del mundo por las guerras y la inteligencia artificial', '/noticia/sociedad/2024/01/23/reloj-apocalipsismantiene-humanidad-90segundos-fin-mundo-guerras-inteligencia-artificial/00031706028106886452959.htm'], ['La industria musical de Galicia supone el 0,2 % del PIB y genera más de 3.200 puestos de trabajo', '/noticia/cultura/2024/01/23/industria-musical-galicia-supone-02-pib-genera-3200-puestos-trabajo/00031706013178777754298.htm'], ['La OMS alerta de la subida «alarmante» de los casos de sarampión en Europa', '/noticia/sociedad/2024/01/23/oms-alerta-subida-alarmante-casos-sarampion-europa/00031706010005002636200.htm'], ['Cataluña y Andalucía, preparadas para activar la emergencia frente a la sequía', '/noticia/sociedad/2024/01/23/cataluna-andalucia-preparadas-activar-emergencia-frente-sequia/0003_202401G23P21992.htm'], ['La UDC participa en un proyecto europeo que medirá los riesgos en ecosistemas degradados', '/noticia/coruna/2024/01/23/universidade-da-coruna-participa-proyecto-europeo-medira-riesgos-ecosistemas-degradados/00031706015758390186633.htm'], ['Yolanda Díaz en «Late Xou»: forofa de Zara y del chocolate con churros de Bonilla', '/noticia/coruna/vivir-coruna/2024/01/23/yolanda-diaz-late-xou-forofa-zara-chocolate-churros-bonilla/00031706016040947680508.htm'], ['Estas cabañas turísticas tienen vistas al Escorial gallego', '/noticia/ourense/san-cristovo-de-cea/2024/01/22/cabanas-turisticas-vistas-escorial-gallego/00031705949714345327555.htm'], ['Madrid acogerá el Gran Premio de España de fórmula 1 del 2026 hasta el 2035', '/noticia/deportes/2024/01/23/madrid-acogera-gran-premio-espana-formula-1-2026-2035/00031706003127573988262.htm'], ['El susto de Pablo Motos que le obligó a abandonar «El Hormiguero»', '/noticia/sociedad/2024/01/23/susto-pablo-motos-obligo-abandonar-hormiguero/00031706006031051939627.htm'], ['Más de doce sándwiches para todos los gustos', 'https://lacocinadefrabisa.lavozdegalicia.es/mas-de-doce-sandwiches-para-todos-los-gustos-2/'], ['¿Qué debe tener un hotel para ser boutique?', '/noticia/yes/2024/01/18/debe-tener-hotel-boutique/00031705598931864902631.htm'], [\"Peter O'Toole, el glamuroso actor que compró un bar para poder seguir bebiendo\", '/noticia/yes/2024/01/11/peter-otoole/00031704990093640879658.htm'], ['Mar Gago, estilista: «Ahora vestimos peor»', '/noticia/yes/2024/01/12/mar-gago-estilista-vestimos-peor/00031705084571582620566.htm'], ['«Solo un 1 % de la población puede dormir menos de seis horas y funcionar bien»', '/noticia/lavozdelasalud/vida-saludable/2024/01/22/juan-antonio-madrid-experto-sueno-solo-1-poblacion-puede-dormir-seis-horas-funcionar-bien/00031705939722961497396.htm'], ['Siete hábitos que no gustan a tu ginecóloga: «Al igual que te hidratas la cara a diario, debes hacerlo con tu vulva»', '/noticia/lavozdelasalud/vida-saludable/2024/01/22/siete-habitos-gustan-tu-ginecologa-igual-hidratas-cara-diario-debes-hacerlo-tu-vulva/00031705940533884987490.htm'], ['David Bueno, biólogo: «Cuando nos levantamos, nuestro cerebro es distinto a cómo nos acostamos»', '/noticia/lavozdelasalud/vida-saludable/2024/01/21/david-bueno-biologo-levantamos-cerebro-distinto-acostamos/00031705853346040249778.htm'], ['Consejos para dejar de estar cansado durante el día', '/noticia/lavozdelasalud/vida-saludable/2024/01/21/consejos-dejar-estar-cansado-durante-dia/00031705853263926379908.htm'], ['Con tallarines, con huevos rotos o con solomillo: cinco formas de disfrutar de la trufa negra en O Carballiño', '/noticia/ourense/2024/01/23/cinco-opciones-disfrutar-trufa-negra/0003_202401O23C8991.htm'], ['El cachopo gallego es la estrella de la carta en este restaurante de Teo', '/noticia/santiago/teo/2024/01/19/cachopo-gallego-estrella-carta-restaurante-teo/00031705698302141765660.htm'], ['Alborés, de una modesta molinera a competir con los gigantes del pienso desde Mazaricos', '/noticia/somosagro/ganaderia/2024/01/23/albores-molinera-domestica-competir-gigantes-pienso-mazaricos/0003_202401B23C4992.htm'], ['El cambio climático y la velutina obligan a los apicultores gallegos a tener que alimentar a sus abejas', '/noticia/somosagro/ganaderia/2024/01/22/cambio-climatico-velutina-obligan-apicultores-gallegos-tener-alimentar-abejas/00031705946217155175331.htm'], ['El Camino Portugués despierta un creciente interés en América y Asia', '/noticia/pontevedra/2024/01/22/camino-portugues-despierta-creciente-interes-america-asia/0003_202401P22C1991.htm'], ['Unha pacífica guerra de fariña deu comezo ao entroido en Xinzo de Limia', '/noticia/ourense/xinzo-de-limia/2024/01/21/unha-pacifica-guerra-farina-deu-comezo-ao-entroido-xinzo-limia/00031705863321034733983.htm'], ['«Es una pequeña cantidad de dinero a cambio de tu antigua vida»: cómo funciona la estafa del vídeo sexual', '/noticia/reto-digital/2024/01/19/precio-pequeno-cambio-destruir-tu-reputacion-funciona-estafa-video-sexual/00031705685260095904962.htm'], ['Seis usos de la inteligencia artificial que se pueden llevar ya a los centros educativos', '/noticia/reto-digital/2024/01/18/seis-usos-inteligencia-artificial-pueden-llevar-centros-educativos/00031705599932053151214.htm'], ['La ciencia de la mentira: por qué funcionan las fake news', 'https://www.lavozdegalicia.es/xlsemanal/historia/noticias-falsas-fake-news-historia-mentiras-medios-de-comunicacion-2.html'], ['Moros infames', 'https://www.lavozdegalicia.es/xlsemanal/firmas/juan-manuel-de-prada/moros-infames.html'], ['Los últimos días de Pompeya: el apocalipsis a cámara lenta', 'https://www.lavozdegalicia.es/xlsemanal/historia/ultimos-dias-pompeya.html'], ['Marlaska defiende que la devolución de menores se hizo «en interés» de estos', '/noticia/espana/2024/01/24/marlaska-defiende-devolucion-menores-hizo-interes/0003_202401G24P14991.htm'], ['Esteban González Pons rectifica tras calificar al actual Tribunal Constitucional de «cáncer del Estado de derecho»', '/noticia/espana/2024/01/23/esteban-gonzalez-pons-rectifica-tras-calificar-actual-tribunal-constitucional-cancer-estado-derecho/00031706040123572150949.htm'], ['Detenido en Barcelona un profesor que agredió sexualmente a más de 70 alumnos menores', '/noticia/espana/2024/01/23/detenido-depredador-sexual-pareja-agredieron-70-menores/00031706007002719642547.htm'], ['El PNV cree que puede haber un pacto entre Bildu y el PSOE tras las elecciones', '/noticia/espana/2024/01/24/pnv-cree-puede-haber-pacto-bildu-psoe-tras-elecciones/0003_202401G24P14993.htm'], ['El asesino de Morata de Tajuña se arruinó tras vender su locutorio para prestar dinero a los hermanos en busca de un pelotazo', '/noticia/espana/2024/01/23/asesino-morata-arruino-tras-vender-locutorio-prestar-dinero-hermanos-busca-pelotazo/00031706000372384369518.htm'], ['La Cruz Roja renuncia de forma temporal a dar asistencia a los solicitantes de asilo en Barajas y reclama «espacios dignos»', '/noticia/espana/2024/01/23/cruz-roja-renuncia-forma-temporal-dar-asistencia-solicitantes-asilo-reclama-espacios-suficientes-dignos/00031706031362682693243.htm'], ['Aragonès remodela su Gobierno y nombra a Vilagrà como vicepresidenta', '/noticia/espana/2024/01/23/aragones-remodela-gobierno-nombra-vilagra-vicepresidenta/00031706013639108471264.htm'], ['Entradas Circo Inimitable presenta Freestyle. Santiago ¡Oferta limitada!', 'https://oferplan.lavozdegalicia.es/ofertas-descuentos/entradas-circo-inimitable-presenta-freestyle.-santiago-oferta-limitada-21636.html?utm_medium=lavoz&utm_source=carrusel&utm_campaign=portada_general&utm_content=21636'], ['Entradas Rubén García, El Lobo. A Coruña. Sábado 3 de febrero ¡Oferta limitada!', 'https://oferplan.lavozdegalicia.es/ofertas-descuentos/entradas-ruben-garcia-lobo.-coruna.-sabado-3-febrero-oferta-limitad-21629.html?utm_medium=lavoz&utm_source=carrusel&utm_campaign=portada_general&utm_content=21629'], ['Magnífica escapada para 2 personas: Alojamiento, desayuno, spa y opción a cena buffet', 'https://oferplan.lavozdegalicia.es/ofertas-descuentos/magnifica-escapada-2-personas-alojamiento-desayuno-spa-opcion-cena-21364.html?utm_medium=lavoz&utm_source=carrusel&utm_campaign=portada_general&utm_content=21364'], ['Israel anuncia la muerte de 24 soldados en el día más sangriento para sus tropas', '/noticia/internacional/2024/01/24/israel-anuncia-muerte-24-soldados-dia-sangriento-tropas/0003_202401G24P16991.htm'], ['Rusia se venga de los ataques ucranianos con un bombardeo masivo de múltiples misiles', '/noticia/internacional/2024/01/24/rusia-venga-ataques-ucranianos-bombardeo-masivo-multiples-misiles/0003_202401G24P18991.htm'], ['La granjera Alexandra Sonac, primera víctima mortal de las protestas de los agricultores de Francia', '/noticia/somosagro/ganaderia/2024/01/23/alexandra-sonac-primera-victima-colateral-protestas-agricultores-francia/00031706011829636212150.htm'], ['Milei acepta un centenar de reformas en su ley ómnibus en busca de consensos', '/noticia/internacional/2024/01/23/milei-acepta-centenar-reformas-ley-omnibus-busca-consensos-congreso/00031706002234354110366.htm'], ['El Constitucional alemán abre la vía para cortar la financiación a la ultraderecha', '/noticia/internacional/2024/01/24/constitucional-aleman-abre-via-cortar-financiacion-ultraderecha/0003_202401G24P18993.htm'], ['Boris Nadezhdin, un sexagenario crítico con la invasión de Ucrania, aspira a enfrentarse a Putin', '/noticia/internacional/2024/01/24/nadezhdin-sexagenario-critico-invasion-aspira-enfrentarse-putin/0003_202401G24P18992.htm'], ['Los seis habitantes de Dixville Notch, el pueblo más pequeño de Nuevo Hampshire, dan a Haley su primera victoria', '/noticia/internacional/2024/01/23/seis-habitantes-dixville-notch-pueblo-pequeno-nuevo-hampshire-dan-haley-primera-victoria/00031706022188087375469.htm'], ['La opción de compra de Luis Quintero, último escollo para su llegada al Deportivo', '/noticia/torremarathon/2024/01/23/opcion-compra-luis-quintero-ultimo-escollo-llegada-depor/00031706007425144333858.htm'], ['Así es Dani Estévez, juvenil del Deportivo: El niño prodigio que sobrevivió al ruido', '/noticia/torremarathon/cantera/2024/01/22/dani-estevez-juvenil-deportivo-nino-prodigio-sobrevivio-ruido/00031705949654847702292.htm'], ['El Deportivo busca este miércoles ante el Lamas los cuartos de final en la Copa del Rey juvenil', '/noticia/torremarathon/cantera/2024/01/23/deportivo-busca-miercoles-ante-lamas-cuartos-final-copa-rey-juvenil/00031706023914580438797.htm'], ['En directo: Celta 0 - Real Sociedad 1', '/retransmision/gradario/2024/01/23/directo-celta-real-sociedad/01071706038808428450532.htm'], ['Marea roja de celtismo para recibir al Celta antes de enfrentarse a la Real Sociedad', '/noticia/gradario/2024/01/23/marea-roja-celtismo-recibir-celta-enfrentarse-real-sociedad/00031706039956174625746.htm'], ['La esperanza del factor Douvikas', '/noticia/gradario/2024/01/23/esperanza-factor-douvikas/0003_202401V23P34991.htm'], ['Los protagonistas del intento de amaño del Badajoz-Pontevedra: «Hablamos con el míster y preferimos no jugar ese partido»', '/noticia/pontevedra/2024/01/23/protagonistas-intento-amano-badajoz-pontevedra-hablamos-mister-preferimos-jugar-partido/00031706008945381481123.htm'], ['Borja Iglesias podría irse al Bayer Leverkusen, líder del Bundesliga', '/noticia/deportes/2024/01/23/borja-iglesias-irse-bayer-leverkusen-lider-bundesliga/00031706035306930817732.htm'], ['Djokovic reacciona ante Fritz y alcanza las semifinales en Australia', '/noticia/deportes/2024/01/23/djokovic-reacciona-ante-fritz-alcanza-semifinales-australia/00031706004840535364146.htm'], ['Embiid hace historia en la NBA: mete 70 puntos y solo Kobe Bryant le supera', '/noticia/deportes/2024/01/23/embiid-historia-nba-mete-70-puntos-solo-kobe-bryant-supera/00031706001130029847401.htm'], ['Cristian Toro, sobre su retirada: «Me choca ver mi nombre como campeón olímpico»', '/noticia/deportes/2024/01/23/cristian-toro-sobre-retirada-me-choca-ver-nombre-campeon-olimpico/00031706019052981214707.htm'], ['Nakic: «Si pudiera repescar a uno de los que ya no están, elegiría a Sisko»', '/noticia/forzabreo/2024/01/24/pudiera-repescar-elegiria-sisko/0003_202401L24P30991.htm'], ['Pustovyi, el tiro al plato y las series de lanzamientos libres', '/noticia/andarmiudino/2024/01/23/pustovyi-tiro-plato-series-lanzamientos-libres/0003_202401S23P34992.htm'], ['El entrenador que acompañaba al joven triatleta Lucas García en el grave accidente: «Los coches no se dan cuenta de que somos vulnerables»', '/noticia/pontevedra/2024/01/22/entrenador-triatlon-acompanaba-campeon-mundo-lucas-garcia-accidente-coches-dan-cuenta-vulnerables/00031705917532042979458.htm'], ['Los gallegos Alba Lago y Diego Losada capitanean la vuelta de «Noticias Cuatro»', '/noticia/sociedad/2024/01/23/gallegos-diego-losada-alba-lago-capitanean-vuelta-noticias-cuatro/00031705998924571587469.htm'], ['Genoveva Casanova y Federico de Dinamarca: así es su actual relación', '/noticia/sociedad/2024/01/23/genoveva-casanova-federico-dinamarca-actual-relacion/00031706002714033919207.htm'], ['Los problemas de salud ponen en jaque a la casa real británica', '/noticia/sociedad/2024/01/23/problemas-salud-ponen-jaque-casa-real-britanica/0003_202401G23P44995.htm'], ['Todo el mundo quiere a «Nolly»', '/noticia/series/2024/01/23/quieren-nolly/0003_202401G23P47993.htm'], ['Ashley Park, actriz de «Emily in Paris», a punto de morir por un shock séptico cuyo origen fue una amigdalitis', '/noticia/lavozdelasalud/enfermedades/2024/01/22/ashley-park-actriz-emily-in-paris-punto-morir-shock-septico-origen-amigdalitis/00031705942827886995764.htm'], ['Quién fue la abuela de Carolina de Mónaco a la que cada vez se parece más: el azote de Grace Kelly', 'https://www.mujerhoy.com/celebrities/realeza/carolina-monaco-67-anos-abuela-carlota-grimaldi-rebelde-escandalo-20240123072320-nt.html#vca=la-voz-de-galicia&vmc=cam-ext?utm_source=lavozdegalicia.es&utm_medium=referral&utm_campaign=internaltraffic&utm_content=01021706027848071539728'], ['Así es Susana de Funes, la mujer del nuevo jefe de la Casa del Rey Camilo Villarino', 'https://www.mujerhoy.com/actualidad/susana-funes-mujer-camilo-villarino-casa-rey-esqui-familia-20240123132908-nt.html#vca=la-voz-de-galicia&vmc=cam-ext?utm_source=lavozdegalicia.es&utm_medium=referral&utm_campaign=internaltraffic&utm_content=01021706027833963483870'], ['eDreams. Ofertas increíbles para todos tus viajes.', 'https://sumavoz.lavozdegalicia.es/offer-details.action?o=129369&tof_p=1&tof_h=true&tof_c=OFFER_LIST&tof_d=OFFERS'], ['Carrefour. Haz tu compra semanal y ahorra hasta un 5% del importe total.', 'https://sumavoz.lavozdegalicia.es/offer-details.action?o=187839&tof_p=1&tof_c=OFFER_LIST&tof_d=OFFERS'], ['HP. ¡Segundas rebajas! Descuentos exclusivos en portátiles, PCs,...', 'https://sumavoz.lavozdegalicia.es/offer-details.action?o=185500&tof_p=1&tof_c=OFFER_LIST&tof_d=OFFERS'], ['Los conciertos que bien merecen una escapada a Portugal', '/noticia/fugas/2024/01/19/portugal-amplia-tu-agenda-conciertos-ano/0003_202401SF19P2992.htm'], ['«Golpe de gracia»: la novela negra debería ser esto', '/noticia/fugas/2024/01/19/novelas-negras-deberian/0003_202401SF19P8992.htm'], ['Por estos 7 restaurantes tienes que ir a Oporto', '/noticia/yes/2024/01/03/7-restaurantes-tienes-ir-oporto/00031704291941805857609.htm'], ['Iolanda Bustos, la chef de las flores: «De niña, los cocineros se reían de mi cocina decorativa»', '/noticia/yes/2023/11/03/iolanda-bustos-chef-flores-poesia-presente-plato-doy-vida/00031698972910029643419.htm'], ['Inés Suárez, de Torre de Núñez: «Japón es uno de nuestros mercados más importantes»', '/noticia/mercados/2024/01/21/japon-mercados-importantes-fuera-espana/0003_202401SM21P7993.htm'], ['Daniel Yu, el Batman de Wall Street', '/noticia/mercados/2024/01/21/batman-wall-street/0003_202401SM21P2991.htm'], ['Hyundai i20 N: disfrutar conduciendo', '/noticia/motor/2024/01/21/disfrutar-conduciendo/0003_202401ST21P16991.htm'], ['Dacia Duster: se avecina otro éxito', '/noticia/motor/2024/01/21/avecina-exito/0003_202401ST21P10991.htm'], ['Los Premios María Casares vivirán una edición «de récord» en A Coruña', '/noticia/coruna/2024/01/23/premios-maria-casares-2024-decidiran-47-espectaculos-350-profesionales/00031706032325363966214.htm'], ['De que falamos cando falamos de arquitectura indiana?', '/noticia/cultura/2024/01/22/span-langgl-falamos-cando-falamos-arquitectura-indianaspan/00031705953115054406660.htm'], ['Muere Norman Jewison, director de «Jesucristo Superstar» y «Hechizo de Luna»', '/noticia/obituarios/2024/01/23/muere-norman-jewison-director-jesucristo-superstar-hechizo-luna/00031705995407472465850.htm'], ['El Gobierno creará una Dirección General de Derechos Culturales para luchar contra la censura', '/noticia/cultura/2024/01/22/urtasun-creara-direccion-general-derechos-culturales-luchar-contra-censura/00031705940708679606602.htm'], ['El aplaudido discurso de Xabi Alonso contra la ultraderecha', '/noticia/escuadra/futbol/2024/01/23/aplaudido-discurso-xabi-alonso-contra-ultraderecha/00031706035925971826200.htm'], ['Polémica por los cacheos a las mujeres en la Copa África', '/noticia/escuadra/futbol/2024/01/23/polemica-indignantes-cacheos-mujeres-copa-africa/00031706020029974830664.htm'], ['Real Madrid TV responde con contundencia a Xavi y al Barcelona', '/noticia/escuadra/futbol/2024/01/22/real-madrid-tv-responde-contundencia-xavi-barcelona/00031705958773878714457.htm']])\n",
      "deque([])\n"
     ]
    }
   ],
   "source": [
    "allTitulares = deque()\n",
    "enderezos=json.loads(json.dumps(URLS))\n",
    "for auxURL in enderezos:\n",
    "    allTitulares.append(dameTitulares(enderezos[auxURL]['url'], enderezos[auxURL]['tag'], enderezos[auxURL]['clase']))\n",
    "for auxTitular in allTitulares:\n",
    "    print(auxTitular)\n"
   ]
  },
  {
   "cell_type": "code",
   "execution_count": null,
   "metadata": {},
   "outputs": [],
   "source": []
  }
 ],
 "metadata": {
  "kernelspec": {
   "display_name": "bigdata",
   "language": "python",
   "name": "python3"
  },
  "language_info": {
   "codemirror_mode": {
    "name": "ipython",
    "version": 3
   },
   "file_extension": ".py",
   "mimetype": "text/x-python",
   "name": "python",
   "nbconvert_exporter": "python",
   "pygments_lexer": "ipython3",
   "version": "3.8.18"
  }
 },
 "nbformat": 4,
 "nbformat_minor": 2
}
