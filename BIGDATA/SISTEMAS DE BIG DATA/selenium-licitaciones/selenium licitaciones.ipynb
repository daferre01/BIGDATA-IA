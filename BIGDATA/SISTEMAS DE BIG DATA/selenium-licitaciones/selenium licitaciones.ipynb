{
 "cells": [
  {
   "cell_type": "markdown",
   "metadata": {},
   "source": [
    "# T2.4 Extraer con selenium datos de licitacións do Concello da Coruña\n",
    "\n",
    "Queremos facer un código que garde nunha BBDD a Microsoft SQL Server a información dos expedientes de licitación do Concello da Coruña e nun directorio (no actual) as capturas de pantalla de cada expediente.\n",
    "\n",
    "Para montar o Microsoft SQL Server sigue a guía de: https://jfsanchez.es/docs/docker-sqlserver-microsoft/\n",
    "\n",
    "Debes empregar selenium e a páxina: https://contrataciondelestado.es\n",
    "\n",
    "Debes navegar por ela coma se indica no documento.\n",
    "\n",
    "Por cada elemento (expediente), meterse nel e facer captura de pantalla (automáticamente, coa API de selenium).\n",
    "\n",
    "**Entrega:**\n",
    "\n",
    "    O código nun jupyter notebook.\n",
    "    A BBDD exportada de Microsoft SQL Server.\n",
    "    Un zip coas capturas de pantalla que fixo selenium.\n"
   ]
  },
  {
   "cell_type": "code",
   "execution_count": 1,
   "metadata": {},
   "outputs": [
    {
     "data": {
      "text/plain": [
       "'C:\\\\Users\\\\david.fernandezrebor\\\\.wdm\\\\drivers\\\\geckodriver\\\\win64\\\\v0.34.0\\\\geckodriver.exe'"
      ]
     },
     "execution_count": 1,
     "metadata": {},
     "output_type": "execute_result"
    }
   ],
   "source": [
    "from webdriver_manager.firefox import GeckoDriverManager\n",
    "GeckoDriverManager().install()"
   ]
  },
  {
   "cell_type": "code",
   "execution_count": 2,
   "metadata": {},
   "outputs": [],
   "source": [
    "\n",
    "import argparse\n",
    "from enum import Enum\n",
    "import sys\n",
    "from selenium import webdriver\n",
    "from selenium.webdriver.common.by import By\n",
    "from selenium import webdriver\n",
    "from selenium.webdriver.common.keys import Keys\n",
    "from selenium.webdriver.support.ui import WebDriverWait\n",
    "from selenium.webdriver.support import expected_conditions as EC\n",
    "from selenium.webdriver.support.select import Select\n",
    "import time\n",
    "import random"
   ]
  },
  {
   "cell_type": "code",
   "execution_count": 8,
   "metadata": {},
   "outputs": [],
   "source": [
    "driver = webdriver.Firefox()\n",
    "driver.get('https://contrataciondelestado.es')\n"
   ]
  },
  {
   "cell_type": "code",
   "execution_count": 9,
   "metadata": {},
   "outputs": [],
   "source": [
    "elem = driver.find_element(By.XPATH, '//div[@class=\"card-item\"][1]')\n",
    "elem.click()\n",
    "\n"
   ]
  },
  {
   "cell_type": "code",
   "execution_count": 10,
   "metadata": {},
   "outputs": [],
   "source": [
    "elem=driver.find_element(By.XPATH, '//span[text()=\"Licitaciones\"]')\n",
    "elem.click()"
   ]
  },
  {
   "cell_type": "code",
   "execution_count": 11,
   "metadata": {},
   "outputs": [],
   "source": [
    "elem=driver.find_element(By.XPATH, '//span[text()=\"Búsqueda avanzada\"]')\n",
    "elem.click()"
   ]
  },
  {
   "cell_type": "code",
   "execution_count": 12,
   "metadata": {},
   "outputs": [],
   "source": [
    "elem=driver.find_element(By.XPATH, '//span[text()=\"Seleccionar\"]')\n",
    "elem.click()"
   ]
  },
  {
   "cell_type": "code",
   "execution_count": 13,
   "metadata": {},
   "outputs": [],
   "source": [
    "elem=driver.find_element(By.XPATH, '//div[@class=\"tafelTree_row\"][1]//img[@class=\"tafelTreeopenable\"]')\n",
    "elem.click()"
   ]
  },
  {
   "cell_type": "code",
   "execution_count": null,
   "metadata": {},
   "outputs": [],
   "source": [
    "# zfdsfsdfsd"
   ]
  }
 ],
 "metadata": {
  "kernelspec": {
   "display_name": "bigdata",
   "language": "python",
   "name": "python3"
  },
  "language_info": {
   "codemirror_mode": {
    "name": "ipython",
    "version": 3
   },
   "file_extension": ".py",
   "mimetype": "text/x-python",
   "name": "python",
   "nbconvert_exporter": "python",
   "pygments_lexer": "ipython3",
   "version": "3.8.18"
  }
 },
 "nbformat": 4,
 "nbformat_minor": 2
}
