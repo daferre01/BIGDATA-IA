{
 "cells": [
  {
   "cell_type": "code",
   "execution_count": 1,
   "metadata": {},
   "outputs": [
    {
     "name": "stdout",
     "output_type": "stream",
     "text": [
      "81.0909090909091\n"
     ]
    }
   ],
   "source": [
    "pesos_estudiantes=[87,83,90,65,58,67,88,87,90,89,88]\n",
    "total_pesos=0\n",
    "for pesada in pesos_estudiantes:\n",
    "    total_pesos+=pesada\n",
    "media_pesos=total_pesos/len(pesos_estudiantes)\n",
    "print(media_pesos)"
   ]
  },
  {
   "cell_type": "code",
   "execution_count": 2,
   "metadata": {},
   "outputs": [
    {
     "name": "stdout",
     "output_type": "stream",
     "text": [
      "81.0909090909091\n"
     ]
    }
   ],
   "source": [
    "pesos_estudiantes=[87,83,90,65,58,67,88,87,90,89,88]\n",
    "media_pesos=sum(pesos_estudiantes)/len(pesos_estudiantes)\n",
    "print(media_pesos)"
   ]
  },
  {
   "cell_type": "code",
   "execution_count": 3,
   "metadata": {},
   "outputs": [
    {
     "name": "stdout",
     "output_type": "stream",
     "text": [
      "81.0909090909091\n"
     ]
    }
   ],
   "source": [
    "from statistics import mean \n",
    "pesos_estudiantes=[87,83,90,65,58,67,88,87,90,89,88]\n",
    "media_pesos=mean(pesos_estudiantes)\n",
    "print(media_pesos)"
   ]
  },
  {
   "cell_type": "code",
   "execution_count": 1,
   "metadata": {},
   "outputs": [
    {
     "name": "stdout",
     "output_type": "stream",
     "text": [
      "81.0909090909091\n"
     ]
    }
   ],
   "source": [
    "import numpy\n",
    "pesos_estudiantes=[87,83,90,65,58,67,88,87,90,89,88]\n",
    "media_pesos=numpy.mean(pesos_estudiantes)\n",
    "print(media_pesos)"
   ]
  },
  {
   "cell_type": "code",
   "execution_count": null,
   "metadata": {},
   "outputs": [],
   "source": []
  }
 ],
 "metadata": {
  "kernelspec": {
   "display_name": "bigdata",
   "language": "python",
   "name": "python3"
  },
  "language_info": {
   "codemirror_mode": {
    "name": "ipython",
    "version": 3
   },
   "file_extension": ".py",
   "mimetype": "text/x-python",
   "name": "python",
   "nbconvert_exporter": "python",
   "pygments_lexer": "ipython3",
   "version": "3.8.18"
  }
 },
 "nbformat": 4,
 "nbformat_minor": 2
}
