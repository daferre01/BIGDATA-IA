{
 "cells": [
  {
   "cell_type": "code",
   "execution_count": null,
   "metadata": {},
   "outputs": [],
   "source": [
    "import sys\n",
    "try:\n",
    "  import google.colab\n",
    "  IN_COLAB = True\n",
    "except:\n",
    "  IN_COLAB = False\n",
    "\n",
    "\n",
    "if IN_COLAB:\n",
    "    # montar el drive, que es donde tenemos el dataset\n",
    "    from google.colab import drive\n",
    "    drive.mount(\"/content/drive\")\n",
    "    data_dir = \"/content/drive/MyDrive/Colab\\ Notebooks/datasets/\"\n",
    "    sys.path.append(data_dir)\n",
    "else:\n",
    "    import os\n",
    "    data_dir = \"/2022/ejercicios_python/datasets/\"\n",
    "import numpy as np"
   ]
  }
 ],
 "metadata": {
  "language_info": {
   "name": "python"
  }
 },
 "nbformat": 4,
 "nbformat_minor": 2
}
