{
 "cells": [
  {
   "cell_type": "code",
   "execution_count": null,
   "metadata": {},
   "outputs": [],
   "source": [
    "import argparse\n",
    "from enum import Enum\n",
    "import sys\n",
    "from selenium import webdriver\n",
    "from selenium.webdriver.common.by import By\n",
    "import time\n",
    "\n",
    "parser = argparse.ArgumentParser(description='Este script emprega selenium coas opcións que lle deas')\n",
    "parser.add_argument('-u', action='store', default='', help=\"Usuario sen @cesga.es\", required=True)\n",
    "parser.add_argument('-p', action='store', default='', help=\"Contrasinal\", required=True)\n",
    "group = parser.add_mutually_exclusive_group()\n",
    "group.add_argument('--chrome', help=\"Empregar o navegador Chrome\",action=\"store_true\")\n",
    "group.add_argument('--firefox', help=\"Empregar o navegador Firefox\",action=\"store_true\")\n",
    "args = parser.parse_args()\n",
    "\n",
    "class NAVEGADOR(Enum):\n",
    "    FIREFOX='Firefox'\n",
    "    CHROME='Chrome'\n",
    "\n",
    "navegadores=0\n",
    "if args.firefox:\n",
    "    navegadores+=1\n",
    "    browser=NAVEGADOR.FIREFOX\n",
    "\n",
    "if args.chrome:\n",
    "    navegadores+=1\n",
    "    browser=NAVEGADOR.CHROME\n",
    "\n",
    "if navegadores != 1:\n",
    "    parser.print_help()\n",
    "    sys.exit(\"Selecciona un navegador!\")\n",
    "\n",
    "USUARIO=args.u\n",
    "CONTRASINAL=args.p\n",
    "\n",
    "CESGA_URL=\"https://cloud.srv.cesga.es\"\n",
    "\n",
    "if browser == NAVEGADOR.FIREFOX:\n",
    "    driver = webdriver.Firefox()\n",
    "\n",
    "driver.get(CESGA_URL)\n",
    "\n",
    "time.sleep(5)\n",
    "driver.find_element(by=By.ID, value=\"id_username\").send_keys(USUARIO)\n",
    "driver.find_element(by=By.ID, value=\"id_password\").send_keys(CONTRASINAL)\n",
    "driver.find_element(by=By.ID, value=\"id_domain\").send_keys(\"hpc\")\n",
    "\n",
    "elem = driver.find_element(By.ID, \"loginBtn\")\n",
    "elem.click()"
   ]
  }
 ],
 "metadata": {
  "kernelspec": {
   "display_name": "bigdata",
   "language": "python",
   "name": "python3"
  },
  "language_info": {
   "name": "python",
   "version": "3.8.18"
  }
 },
 "nbformat": 4,
 "nbformat_minor": 2
}
