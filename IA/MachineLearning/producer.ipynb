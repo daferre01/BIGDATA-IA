{
 "cells": [
  {
   "cell_type": "code",
   "execution_count": 1,
   "metadata": {},
   "outputs": [
    {
     "ename": "ModuleNotFoundError",
     "evalue": "No module named 'kafka'",
     "output_type": "error",
     "traceback": [
      "\u001b[1;31m---------------------------------------------------------------------------\u001b[0m",
      "\u001b[1;31mModuleNotFoundError\u001b[0m                       Traceback (most recent call last)",
      "Cell \u001b[1;32mIn[1], line 1\u001b[0m\n\u001b[1;32m----> 1\u001b[0m \u001b[38;5;28;01mfrom\u001b[39;00m \u001b[38;5;21;01mkafka\u001b[39;00m \u001b[38;5;28;01mimport\u001b[39;00m KafkaProducer\n\u001b[0;32m      2\u001b[0m \u001b[38;5;28;01mfrom\u001b[39;00m \u001b[38;5;21;01mjson\u001b[39;00m \u001b[38;5;28;01mimport\u001b[39;00m dumps\n\u001b[0;32m      3\u001b[0m \u001b[38;5;28;01mimport\u001b[39;00m \u001b[38;5;21;01mtime\u001b[39;00m\n",
      "\u001b[1;31mModuleNotFoundError\u001b[0m: No module named 'kafka'"
     ]
    }
   ],
   "source": [
    "from kafka import KafkaProducer\n",
    "from json import dumps\n",
    "import time\n",
    "\n",
    "producer = KafkaProducer(\n",
    "    value_serializer=lambda m: dumps(m).encode('utf-8'),\n",
    "    bootstrap_servers=['10.133.29.116:9092'])\n",
    "\n",
    "for i in range(10):\n",
    "    producer.send(\"iabd-topic\", value={\"nombre\": \"producer \" + str(i)})\n",
    "# Como el envío es asíncrono, para que no se salga del programa antes de enviar el mensaje, esperamos 1 seg\n",
    "time.sleep(1)\n",
    "# producer.flush()"
   ]
  },
  {
   "cell_type": "code",
   "execution_count": 12,
   "metadata": {},
   "outputs": [
    {
     "name": "stderr",
     "output_type": "stream",
     "text": [
      "Exception ignored in: <function KafkaProducer.__del__ at 0x000001C45A988310>\n",
      "Traceback (most recent call last):\n",
      "  File \"c:\\Users\\david.fernandezrebor\\AppData\\Local\\miniconda3\\envs\\bigdata\\lib\\site-packages\\kafka\\producer\\kafka.py\", line 460, in __del__\n",
      "    self.close()\n",
      "  File \"c:\\Users\\david.fernandezrebor\\AppData\\Local\\miniconda3\\envs\\bigdata\\lib\\site-packages\\kafka\\producer\\kafka.py\", line 496, in close\n",
      "    self._sender.join(timeout)\n",
      "  File \"c:\\Users\\david.fernandezrebor\\AppData\\Local\\miniconda3\\envs\\bigdata\\lib\\threading.py\", line 1015, in join\n",
      "    self._wait_for_tstate_lock(timeout=max(timeout, 0))\n",
      "  File \"c:\\Users\\david.fernandezrebor\\AppData\\Local\\miniconda3\\envs\\bigdata\\lib\\threading.py\", line 1027, in _wait_for_tstate_lock\n",
      "    elif lock.acquire(block, timeout):\n",
      "KeyboardInterrupt: \n"
     ]
    }
   ],
   "source": [
    "from kafka import KafkaProducer\n",
    "from json import dumps\n",
    "import time\n",
    "\n",
    "producer = KafkaProducer(\n",
    "    value_serializer=lambda m: dumps(m).encode('utf-8'),\n",
    "    bootstrap_servers=['193.144.42.95:9092'])\n",
    "\n",
    "# for i in range(10):\n",
    "producer.send(\"bigdata\", value='BigData')\n",
    "# Como el envío es asíncrono, para que no se salga del programa antes de enviar el mensaje, esperamos 1 seg\n",
    "time.sleep(1)\n",
    "# producer.flush()"
   ]
  },
  {
   "cell_type": "code",
   "execution_count": null,
   "metadata": {},
   "outputs": [],
   "source": []
  }
 ],
 "metadata": {
  "kernelspec": {
   "display_name": "bigdata",
   "language": "python",
   "name": "python3"
  },
  "language_info": {
   "codemirror_mode": {
    "name": "ipython",
    "version": 3
   },
   "file_extension": ".py",
   "mimetype": "text/x-python",
   "name": "python",
   "nbconvert_exporter": "python",
   "pygments_lexer": "ipython3",
   "version": "3.8.18"
  }
 },
 "nbformat": 4,
 "nbformat_minor": 2
}
