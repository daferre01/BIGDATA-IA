{
 "cells": [
  {
   "cell_type": "code",
   "execution_count": null,
   "metadata": {},
   "outputs": [],
   "source": [
    "from kafka import KafkaConsumer\n",
    "from json import loads\n",
    "\n",
    "consumer = KafkaConsumer(\n",
    "    'iabd-topic',\n",
    "    auto_offset_reset='earliest',\n",
    "    enable_auto_commit=True,\n",
    "    group_id='iabd-grupo-1',\n",
    "    value_deserializer=lambda m: loads(m.decode('utf-8')),\n",
    "    bootstrap_servers=['127.0.0.1:9092'])\n",
    "\n",
    "for m in consumer:\n",
    "    print(m.value)"
   ]
  }
 ],
 "metadata": {
  "language_info": {
   "name": "python"
  }
 },
 "nbformat": 4,
 "nbformat_minor": 2
}
